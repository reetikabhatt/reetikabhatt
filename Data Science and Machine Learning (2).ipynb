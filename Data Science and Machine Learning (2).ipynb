{
 "cells": [
  {
   "cell_type": "markdown",
   "id": "58092bf1-1153-4ae5-87c3-826814d58200",
   "metadata": {},
   "source": [
    "# **Data Science and Machine Learning**\n"
   ]
  },
  {
   "cell_type": "markdown",
   "id": "d4dca1a9-44b9-429c-b513-cb527e1e3d62",
   "metadata": {},
   "source": [
    "## Business Understanding"
   ]
  },
  {
   "cell_type": "markdown",
   "id": "0fde1eca-2f81-4ebe-8c08-a1cad73d4dab",
   "metadata": {},
   "source": [
    "#### I am interested in developing a model for predicting fraudulent transactions for a financial company and use insights from the model to develop an actionable plan. Data for the case is available in CSV format [Fraud csv](C:\\Users\\Dell\\Downloads\\Fraud.csv)"
   ]
  },
  {
   "cell_type": "markdown",
   "id": "7f67e9b4-7a60-4467-a34d-b40f216d7ea9",
   "metadata": {},
   "source": [
    "#### ***I will explore the machine learning algorithm, Logistic Regression to execute the process for proactive detection of fraud.***"
   ]
  },
  {
   "cell_type": "code",
   "execution_count": 1,
   "id": "591ac04e-0533-4048-9bb8-ef90b8063d38",
   "metadata": {},
   "outputs": [],
   "source": [
    "# Importing the dependencies\n",
    "import pandas as pd\n",
    "import numpy as np\n",
    "from sklearn.model_selection import train_test_split\n",
    "from sklearn.linear_model import LogisticRegression\n",
    "from sklearn.metrics import accuracy_score  # to check the performance of the model"
   ]
  },
  {
   "cell_type": "markdown",
   "id": "21184937-7616-4e8a-b81f-eb1b07ce4c0f",
   "metadata": {},
   "source": [
    "## Data Understanding"
   ]
  },
  {
   "cell_type": "code",
   "execution_count": 2,
   "id": "d99a46e8-167d-4c46-8204-0fe6dcec77fa",
   "metadata": {},
   "outputs": [],
   "source": [
    "# loading the dataset to a panda dataframe\n",
    "fraud_data= pd.read_csv('C:/Users/Dell/Desktop/Python Project1/Fraud.csv')"
   ]
  },
  {
   "cell_type": "markdown",
   "id": "dec6f8f5-9b50-453d-aa22-b0607e701fc3",
   "metadata": {},
   "source": [
    "#### Data Cleaning"
   ]
  },
  {
   "cell_type": "code",
   "execution_count": 30,
   "id": "997be919-7cb9-40f4-b560-113a403fe055",
   "metadata": {},
   "outputs": [],
   "source": [
    "# Data cleaning\n",
    "fraud_data = fraud_data.drop(columns=['nameOrig', 'nameDest'])  "
   ]
  },
  {
   "cell_type": "code",
   "execution_count": 38,
   "id": "2f4677e0-7225-495f-86db-4c40e34e604f",
   "metadata": {},
   "outputs": [
    {
     "data": {
      "text/html": [
       "<div>\n",
       "<style scoped>\n",
       "    .dataframe tbody tr th:only-of-type {\n",
       "        vertical-align: middle;\n",
       "    }\n",
       "\n",
       "    .dataframe tbody tr th {\n",
       "        vertical-align: top;\n",
       "    }\n",
       "\n",
       "    .dataframe thead th {\n",
       "        text-align: right;\n",
       "    }\n",
       "</style>\n",
       "<table border=\"1\" class=\"dataframe\">\n",
       "  <thead>\n",
       "    <tr style=\"text-align: right;\">\n",
       "      <th></th>\n",
       "      <th>step</th>\n",
       "      <th>amount</th>\n",
       "      <th>oldbalanceOrg</th>\n",
       "      <th>newbalanceOrig</th>\n",
       "      <th>oldbalanceDest</th>\n",
       "      <th>newbalanceDest</th>\n",
       "      <th>isFraud</th>\n",
       "      <th>isFlaggedFraud</th>\n",
       "      <th>type_CASH_OUT</th>\n",
       "      <th>type_DEBIT</th>\n",
       "      <th>type_PAYMENT</th>\n",
       "      <th>type_TRANSFER</th>\n",
       "    </tr>\n",
       "  </thead>\n",
       "  <tbody>\n",
       "    <tr>\n",
       "      <th>0</th>\n",
       "      <td>1</td>\n",
       "      <td>9839.64</td>\n",
       "      <td>170136.0</td>\n",
       "      <td>160296.36</td>\n",
       "      <td>0.0</td>\n",
       "      <td>0.0</td>\n",
       "      <td>0</td>\n",
       "      <td>0</td>\n",
       "      <td>False</td>\n",
       "      <td>False</td>\n",
       "      <td>True</td>\n",
       "      <td>False</td>\n",
       "    </tr>\n",
       "    <tr>\n",
       "      <th>1</th>\n",
       "      <td>1</td>\n",
       "      <td>1864.28</td>\n",
       "      <td>21249.0</td>\n",
       "      <td>19384.72</td>\n",
       "      <td>0.0</td>\n",
       "      <td>0.0</td>\n",
       "      <td>0</td>\n",
       "      <td>0</td>\n",
       "      <td>False</td>\n",
       "      <td>False</td>\n",
       "      <td>True</td>\n",
       "      <td>False</td>\n",
       "    </tr>\n",
       "    <tr>\n",
       "      <th>2</th>\n",
       "      <td>1</td>\n",
       "      <td>181.00</td>\n",
       "      <td>181.0</td>\n",
       "      <td>0.00</td>\n",
       "      <td>0.0</td>\n",
       "      <td>0.0</td>\n",
       "      <td>1</td>\n",
       "      <td>0</td>\n",
       "      <td>False</td>\n",
       "      <td>False</td>\n",
       "      <td>False</td>\n",
       "      <td>True</td>\n",
       "    </tr>\n",
       "    <tr>\n",
       "      <th>3</th>\n",
       "      <td>1</td>\n",
       "      <td>181.00</td>\n",
       "      <td>181.0</td>\n",
       "      <td>0.00</td>\n",
       "      <td>21182.0</td>\n",
       "      <td>0.0</td>\n",
       "      <td>1</td>\n",
       "      <td>0</td>\n",
       "      <td>True</td>\n",
       "      <td>False</td>\n",
       "      <td>False</td>\n",
       "      <td>False</td>\n",
       "    </tr>\n",
       "    <tr>\n",
       "      <th>4</th>\n",
       "      <td>1</td>\n",
       "      <td>11668.14</td>\n",
       "      <td>41554.0</td>\n",
       "      <td>29885.86</td>\n",
       "      <td>0.0</td>\n",
       "      <td>0.0</td>\n",
       "      <td>0</td>\n",
       "      <td>0</td>\n",
       "      <td>False</td>\n",
       "      <td>False</td>\n",
       "      <td>True</td>\n",
       "      <td>False</td>\n",
       "    </tr>\n",
       "  </tbody>\n",
       "</table>\n",
       "</div>"
      ],
      "text/plain": [
       "   step    amount  oldbalanceOrg  newbalanceOrig  oldbalanceDest  \\\n",
       "0     1   9839.64       170136.0       160296.36             0.0   \n",
       "1     1   1864.28        21249.0        19384.72             0.0   \n",
       "2     1    181.00          181.0            0.00             0.0   \n",
       "3     1    181.00          181.0            0.00         21182.0   \n",
       "4     1  11668.14        41554.0        29885.86             0.0   \n",
       "\n",
       "   newbalanceDest  isFraud  isFlaggedFraud  type_CASH_OUT  type_DEBIT  \\\n",
       "0             0.0        0               0          False       False   \n",
       "1             0.0        0               0          False       False   \n",
       "2             0.0        1               0          False       False   \n",
       "3             0.0        1               0           True       False   \n",
       "4             0.0        0               0          False       False   \n",
       "\n",
       "   type_PAYMENT  type_TRANSFER  \n",
       "0          True          False  \n",
       "1          True          False  \n",
       "2         False           True  \n",
       "3         False          False  \n",
       "4          True          False  "
      ]
     },
     "execution_count": 38,
     "metadata": {},
     "output_type": "execute_result"
    }
   ],
   "source": [
    "fraud_data.head()"
   ]
  },
  {
   "cell_type": "code",
   "execution_count": 39,
   "id": "9d7e5f1b",
   "metadata": {},
   "outputs": [
    {
     "data": {
      "text/html": [
       "<div>\n",
       "<style scoped>\n",
       "    .dataframe tbody tr th:only-of-type {\n",
       "        vertical-align: middle;\n",
       "    }\n",
       "\n",
       "    .dataframe tbody tr th {\n",
       "        vertical-align: top;\n",
       "    }\n",
       "\n",
       "    .dataframe thead th {\n",
       "        text-align: right;\n",
       "    }\n",
       "</style>\n",
       "<table border=\"1\" class=\"dataframe\">\n",
       "  <thead>\n",
       "    <tr style=\"text-align: right;\">\n",
       "      <th></th>\n",
       "      <th>step</th>\n",
       "      <th>amount</th>\n",
       "      <th>oldbalanceOrg</th>\n",
       "      <th>newbalanceOrig</th>\n",
       "      <th>oldbalanceDest</th>\n",
       "      <th>newbalanceDest</th>\n",
       "      <th>isFraud</th>\n",
       "      <th>isFlaggedFraud</th>\n",
       "      <th>type_CASH_OUT</th>\n",
       "      <th>type_DEBIT</th>\n",
       "      <th>type_PAYMENT</th>\n",
       "      <th>type_TRANSFER</th>\n",
       "    </tr>\n",
       "  </thead>\n",
       "  <tbody>\n",
       "    <tr>\n",
       "      <th>6362615</th>\n",
       "      <td>743</td>\n",
       "      <td>339682.13</td>\n",
       "      <td>339682.13</td>\n",
       "      <td>0.0</td>\n",
       "      <td>0.00</td>\n",
       "      <td>339682.13</td>\n",
       "      <td>1</td>\n",
       "      <td>0</td>\n",
       "      <td>True</td>\n",
       "      <td>False</td>\n",
       "      <td>False</td>\n",
       "      <td>False</td>\n",
       "    </tr>\n",
       "    <tr>\n",
       "      <th>6362616</th>\n",
       "      <td>743</td>\n",
       "      <td>6311409.28</td>\n",
       "      <td>6311409.28</td>\n",
       "      <td>0.0</td>\n",
       "      <td>0.00</td>\n",
       "      <td>0.00</td>\n",
       "      <td>1</td>\n",
       "      <td>0</td>\n",
       "      <td>False</td>\n",
       "      <td>False</td>\n",
       "      <td>False</td>\n",
       "      <td>True</td>\n",
       "    </tr>\n",
       "    <tr>\n",
       "      <th>6362617</th>\n",
       "      <td>743</td>\n",
       "      <td>6311409.28</td>\n",
       "      <td>6311409.28</td>\n",
       "      <td>0.0</td>\n",
       "      <td>68488.84</td>\n",
       "      <td>6379898.11</td>\n",
       "      <td>1</td>\n",
       "      <td>0</td>\n",
       "      <td>True</td>\n",
       "      <td>False</td>\n",
       "      <td>False</td>\n",
       "      <td>False</td>\n",
       "    </tr>\n",
       "    <tr>\n",
       "      <th>6362618</th>\n",
       "      <td>743</td>\n",
       "      <td>850002.52</td>\n",
       "      <td>850002.52</td>\n",
       "      <td>0.0</td>\n",
       "      <td>0.00</td>\n",
       "      <td>0.00</td>\n",
       "      <td>1</td>\n",
       "      <td>0</td>\n",
       "      <td>False</td>\n",
       "      <td>False</td>\n",
       "      <td>False</td>\n",
       "      <td>True</td>\n",
       "    </tr>\n",
       "    <tr>\n",
       "      <th>6362619</th>\n",
       "      <td>743</td>\n",
       "      <td>850002.52</td>\n",
       "      <td>850002.52</td>\n",
       "      <td>0.0</td>\n",
       "      <td>6510099.11</td>\n",
       "      <td>7360101.63</td>\n",
       "      <td>1</td>\n",
       "      <td>0</td>\n",
       "      <td>True</td>\n",
       "      <td>False</td>\n",
       "      <td>False</td>\n",
       "      <td>False</td>\n",
       "    </tr>\n",
       "  </tbody>\n",
       "</table>\n",
       "</div>"
      ],
      "text/plain": [
       "         step      amount  oldbalanceOrg  newbalanceOrig  oldbalanceDest  \\\n",
       "6362615   743   339682.13      339682.13             0.0            0.00   \n",
       "6362616   743  6311409.28     6311409.28             0.0            0.00   \n",
       "6362617   743  6311409.28     6311409.28             0.0        68488.84   \n",
       "6362618   743   850002.52      850002.52             0.0            0.00   \n",
       "6362619   743   850002.52      850002.52             0.0      6510099.11   \n",
       "\n",
       "         newbalanceDest  isFraud  isFlaggedFraud  type_CASH_OUT  type_DEBIT  \\\n",
       "6362615       339682.13        1               0           True       False   \n",
       "6362616            0.00        1               0          False       False   \n",
       "6362617      6379898.11        1               0           True       False   \n",
       "6362618            0.00        1               0          False       False   \n",
       "6362619      7360101.63        1               0           True       False   \n",
       "\n",
       "         type_PAYMENT  type_TRANSFER  \n",
       "6362615         False          False  \n",
       "6362616         False           True  \n",
       "6362617         False          False  \n",
       "6362618         False           True  \n",
       "6362619         False          False  "
      ]
     },
     "execution_count": 39,
     "metadata": {},
     "output_type": "execute_result"
    }
   ],
   "source": [
    "fraud_data.tail()"
   ]
  },
  {
   "cell_type": "code",
   "execution_count": 40,
   "id": "91aadade",
   "metadata": {},
   "outputs": [
    {
     "name": "stdout",
     "output_type": "stream",
     "text": [
      "<class 'pandas.core.frame.DataFrame'>\n",
      "RangeIndex: 6362620 entries, 0 to 6362619\n",
      "Data columns (total 12 columns):\n",
      " #   Column          Dtype  \n",
      "---  ------          -----  \n",
      " 0   step            int64  \n",
      " 1   amount          float64\n",
      " 2   oldbalanceOrg   float64\n",
      " 3   newbalanceOrig  float64\n",
      " 4   oldbalanceDest  float64\n",
      " 5   newbalanceDest  float64\n",
      " 6   isFraud         int64  \n",
      " 7   isFlaggedFraud  int64  \n",
      " 8   type_CASH_OUT   bool   \n",
      " 9   type_DEBIT      bool   \n",
      " 10  type_PAYMENT    bool   \n",
      " 11  type_TRANSFER   bool   \n",
      "dtypes: bool(4), float64(5), int64(3)\n",
      "memory usage: 412.6 MB\n"
     ]
    }
   ],
   "source": [
    "fraud_data.info()"
   ]
  },
  {
   "cell_type": "markdown",
   "id": "0a9500b3-b88a-4f3e-9631-b3ab046cc484",
   "metadata": {},
   "source": [
    "#### Finding missing values"
   ]
  },
  {
   "cell_type": "code",
   "execution_count": 41,
   "id": "a04f7677",
   "metadata": {},
   "outputs": [
    {
     "data": {
      "text/plain": [
       "step              0\n",
       "amount            0\n",
       "oldbalanceOrg     0\n",
       "newbalanceOrig    0\n",
       "oldbalanceDest    0\n",
       "newbalanceDest    0\n",
       "isFraud           0\n",
       "isFlaggedFraud    0\n",
       "type_CASH_OUT     0\n",
       "type_DEBIT        0\n",
       "type_PAYMENT      0\n",
       "type_TRANSFER     0\n",
       "dtype: int64"
      ]
     },
     "execution_count": 41,
     "metadata": {},
     "output_type": "execute_result"
    }
   ],
   "source": [
    "# checking the number of missing values in each coloumn\n",
    "fraud_data.isnull().sum()"
   ]
  },
  {
   "cell_type": "markdown",
   "id": "d949ac58",
   "metadata": {},
   "source": [
    "We can see that there are no missing values in the Data, so we can move ahead to the Data preparation for the analysis."
   ]
  },
  {
   "cell_type": "code",
   "execution_count": 42,
   "id": "74ea55de",
   "metadata": {},
   "outputs": [
    {
     "data": {
      "text/plain": [
       "isFraud\n",
       "0    6354407\n",
       "1       8213\n",
       "Name: count, dtype: int64"
      ]
     },
     "execution_count": 42,
     "metadata": {},
     "output_type": "execute_result"
    }
   ],
   "source": [
    "# distribution of legit transactions and fraudulent transactions\n",
    "fraud_data['isFraud'].value_counts()"
   ]
  },
  {
   "cell_type": "markdown",
   "id": "a325d0dd",
   "metadata": {},
   "source": [
    "It can be observed that it is a unbalanced data, very less part of the data is showing the fradulent transactions. We cannot use the data as it is to train our machine learning model. We need to process the data before using it."
   ]
  },
  {
   "cell_type": "markdown",
   "id": "90aea9f1-3ad5-44e8-841e-2c9ad71ad4d5",
   "metadata": {},
   "source": [
    "### Data Preparation"
   ]
  },
  {
   "cell_type": "code",
   "execution_count": 43,
   "id": "216d0102",
   "metadata": {},
   "outputs": [],
   "source": [
    "# seperating the data for analysis\n",
    "legit= fraud_data[fraud_data.isFraud == 0]\n",
    "fraud= fraud_data[fraud_data.isFraud == 1]"
   ]
  },
  {
   "cell_type": "code",
   "execution_count": 44,
   "id": "0d6a8f18",
   "metadata": {},
   "outputs": [
    {
     "name": "stdout",
     "output_type": "stream",
     "text": [
      "(6354407, 12)\n",
      "(8213, 12)\n"
     ]
    }
   ],
   "source": [
    "print(legit.shape)\n",
    "print(fraud.shape)"
   ]
  },
  {
   "cell_type": "code",
   "execution_count": 45,
   "id": "32dfa75a",
   "metadata": {},
   "outputs": [
    {
     "data": {
      "text/plain": [
       "count    6.354407e+06\n",
       "mean     1.781970e+05\n",
       "std      5.962370e+05\n",
       "min      1.000000e-02\n",
       "25%      1.336840e+04\n",
       "50%      7.468472e+04\n",
       "75%      2.083648e+05\n",
       "max      9.244552e+07\n",
       "Name: amount, dtype: float64"
      ]
     },
     "execution_count": 45,
     "metadata": {},
     "output_type": "execute_result"
    }
   ],
   "source": [
    "# statistical measures of the data\n",
    "legit.amount.describe()"
   ]
  },
  {
   "cell_type": "code",
   "execution_count": 46,
   "id": "c12e2c04",
   "metadata": {},
   "outputs": [
    {
     "data": {
      "text/plain": [
       "count    8.213000e+03\n",
       "mean     1.467967e+06\n",
       "std      2.404253e+06\n",
       "min      0.000000e+00\n",
       "25%      1.270913e+05\n",
       "50%      4.414234e+05\n",
       "75%      1.517771e+06\n",
       "max      1.000000e+07\n",
       "Name: amount, dtype: float64"
      ]
     },
     "execution_count": 46,
     "metadata": {},
     "output_type": "execute_result"
    }
   ],
   "source": [
    "fraud.amount.describe()"
   ]
  },
  {
   "cell_type": "markdown",
   "id": "e277abbf-e8f4-498f-aeff-7df0d2dc3c44",
   "metadata": {},
   "source": [
    "##### Under-Sampling"
   ]
  },
  {
   "cell_type": "code",
   "execution_count": 47,
   "id": "06d9027a-2361-4d06-a410-c31f9cf5980c",
   "metadata": {},
   "outputs": [],
   "source": [
    "legit_sample= legit.sample(n=8213)"
   ]
  },
  {
   "cell_type": "markdown",
   "id": "18750d18-36c8-4d91-9c7b-c7b2ffaf2b8a",
   "metadata": {},
   "source": [
    "##### Concatenating the two Dataframes"
   ]
  },
  {
   "cell_type": "code",
   "execution_count": 48,
   "id": "5c696382-71f2-4ec5-88ab-a596ed0a72d5",
   "metadata": {},
   "outputs": [],
   "source": [
    "new_data= pd.concat([legit_sample, fraud], axis= 0)"
   ]
  },
  {
   "cell_type": "code",
   "execution_count": 49,
   "id": "d4cb3262-dc8c-40dc-85e7-25d7c82199e2",
   "metadata": {},
   "outputs": [
    {
     "data": {
      "text/html": [
       "<div>\n",
       "<style scoped>\n",
       "    .dataframe tbody tr th:only-of-type {\n",
       "        vertical-align: middle;\n",
       "    }\n",
       "\n",
       "    .dataframe tbody tr th {\n",
       "        vertical-align: top;\n",
       "    }\n",
       "\n",
       "    .dataframe thead th {\n",
       "        text-align: right;\n",
       "    }\n",
       "</style>\n",
       "<table border=\"1\" class=\"dataframe\">\n",
       "  <thead>\n",
       "    <tr style=\"text-align: right;\">\n",
       "      <th></th>\n",
       "      <th>step</th>\n",
       "      <th>amount</th>\n",
       "      <th>oldbalanceOrg</th>\n",
       "      <th>newbalanceOrig</th>\n",
       "      <th>oldbalanceDest</th>\n",
       "      <th>newbalanceDest</th>\n",
       "      <th>isFraud</th>\n",
       "      <th>isFlaggedFraud</th>\n",
       "      <th>type_CASH_OUT</th>\n",
       "      <th>type_DEBIT</th>\n",
       "      <th>type_PAYMENT</th>\n",
       "      <th>type_TRANSFER</th>\n",
       "    </tr>\n",
       "  </thead>\n",
       "  <tbody>\n",
       "    <tr>\n",
       "      <th>4443869</th>\n",
       "      <td>323</td>\n",
       "      <td>21351.35</td>\n",
       "      <td>0.0</td>\n",
       "      <td>0.00</td>\n",
       "      <td>0.00</td>\n",
       "      <td>0.00</td>\n",
       "      <td>0</td>\n",
       "      <td>0</td>\n",
       "      <td>False</td>\n",
       "      <td>False</td>\n",
       "      <td>True</td>\n",
       "      <td>False</td>\n",
       "    </tr>\n",
       "    <tr>\n",
       "      <th>2862999</th>\n",
       "      <td>227</td>\n",
       "      <td>242741.51</td>\n",
       "      <td>88705.0</td>\n",
       "      <td>0.00</td>\n",
       "      <td>333574.25</td>\n",
       "      <td>576315.76</td>\n",
       "      <td>0</td>\n",
       "      <td>0</td>\n",
       "      <td>True</td>\n",
       "      <td>False</td>\n",
       "      <td>False</td>\n",
       "      <td>False</td>\n",
       "    </tr>\n",
       "    <tr>\n",
       "      <th>989451</th>\n",
       "      <td>45</td>\n",
       "      <td>162605.79</td>\n",
       "      <td>107605.0</td>\n",
       "      <td>270210.79</td>\n",
       "      <td>0.00</td>\n",
       "      <td>0.00</td>\n",
       "      <td>0</td>\n",
       "      <td>0</td>\n",
       "      <td>False</td>\n",
       "      <td>False</td>\n",
       "      <td>False</td>\n",
       "      <td>False</td>\n",
       "    </tr>\n",
       "    <tr>\n",
       "      <th>2811143</th>\n",
       "      <td>225</td>\n",
       "      <td>263489.92</td>\n",
       "      <td>6033.0</td>\n",
       "      <td>0.00</td>\n",
       "      <td>0.00</td>\n",
       "      <td>263489.92</td>\n",
       "      <td>0</td>\n",
       "      <td>0</td>\n",
       "      <td>True</td>\n",
       "      <td>False</td>\n",
       "      <td>False</td>\n",
       "      <td>False</td>\n",
       "    </tr>\n",
       "    <tr>\n",
       "      <th>363296</th>\n",
       "      <td>17</td>\n",
       "      <td>28080.92</td>\n",
       "      <td>12085.0</td>\n",
       "      <td>0.00</td>\n",
       "      <td>0.00</td>\n",
       "      <td>0.00</td>\n",
       "      <td>0</td>\n",
       "      <td>0</td>\n",
       "      <td>False</td>\n",
       "      <td>False</td>\n",
       "      <td>True</td>\n",
       "      <td>False</td>\n",
       "    </tr>\n",
       "  </tbody>\n",
       "</table>\n",
       "</div>"
      ],
      "text/plain": [
       "         step     amount  oldbalanceOrg  newbalanceOrig  oldbalanceDest  \\\n",
       "4443869   323   21351.35            0.0            0.00            0.00   \n",
       "2862999   227  242741.51        88705.0            0.00       333574.25   \n",
       "989451     45  162605.79       107605.0       270210.79            0.00   \n",
       "2811143   225  263489.92         6033.0            0.00            0.00   \n",
       "363296     17   28080.92        12085.0            0.00            0.00   \n",
       "\n",
       "         newbalanceDest  isFraud  isFlaggedFraud  type_CASH_OUT  type_DEBIT  \\\n",
       "4443869            0.00        0               0          False       False   \n",
       "2862999       576315.76        0               0           True       False   \n",
       "989451             0.00        0               0          False       False   \n",
       "2811143       263489.92        0               0           True       False   \n",
       "363296             0.00        0               0          False       False   \n",
       "\n",
       "         type_PAYMENT  type_TRANSFER  \n",
       "4443869          True          False  \n",
       "2862999         False          False  \n",
       "989451          False          False  \n",
       "2811143         False          False  \n",
       "363296           True          False  "
      ]
     },
     "execution_count": 49,
     "metadata": {},
     "output_type": "execute_result"
    }
   ],
   "source": [
    "new_data.head()"
   ]
  },
  {
   "cell_type": "code",
   "execution_count": 50,
   "id": "d72a08b7-bb44-459a-b216-6fa057bacbf4",
   "metadata": {},
   "outputs": [
    {
     "data": {
      "text/plain": [
       "isFraud\n",
       "0    8213\n",
       "1    8213\n",
       "Name: count, dtype: int64"
      ]
     },
     "execution_count": 50,
     "metadata": {},
     "output_type": "execute_result"
    }
   ],
   "source": [
    "new_data['isFraud'].value_counts()"
   ]
  },
  {
   "cell_type": "markdown",
   "id": "cfbecf62-7c54-4857-81c8-7bdde2adcf3f",
   "metadata": {},
   "source": [
    "##### Splitting the data into Features and Targets"
   ]
  },
  {
   "cell_type": "code",
   "execution_count": 51,
   "id": "07d982da-0a1c-4bb4-9b48-c6459949510c",
   "metadata": {},
   "outputs": [],
   "source": [
    "X= new_data.drop(columns= 'isFraud', axis= 1)\n",
    "Y= new_data[['isFraud']]"
   ]
  },
  {
   "cell_type": "code",
   "execution_count": 52,
   "id": "d9a64985-6bd8-447c-b399-f18ef33f0b74",
   "metadata": {},
   "outputs": [
    {
     "name": "stdout",
     "output_type": "stream",
     "text": [
      "         step      amount  oldbalanceOrg  newbalanceOrig  oldbalanceDest  \\\n",
      "4443869   323    21351.35           0.00            0.00            0.00   \n",
      "2862999   227   242741.51       88705.00            0.00       333574.25   \n",
      "989451     45   162605.79      107605.00       270210.79            0.00   \n",
      "2811143   225   263489.92        6033.00            0.00            0.00   \n",
      "363296     17    28080.92       12085.00            0.00            0.00   \n",
      "...       ...         ...            ...             ...             ...   \n",
      "6362615   743   339682.13      339682.13            0.00            0.00   \n",
      "6362616   743  6311409.28     6311409.28            0.00            0.00   \n",
      "6362617   743  6311409.28     6311409.28            0.00        68488.84   \n",
      "6362618   743   850002.52      850002.52            0.00            0.00   \n",
      "6362619   743   850002.52      850002.52            0.00      6510099.11   \n",
      "\n",
      "         newbalanceDest  isFlaggedFraud  type_CASH_OUT  type_DEBIT  \\\n",
      "4443869            0.00               0          False       False   \n",
      "2862999       576315.76               0           True       False   \n",
      "989451             0.00               0          False       False   \n",
      "2811143       263489.92               0           True       False   \n",
      "363296             0.00               0          False       False   \n",
      "...                 ...             ...            ...         ...   \n",
      "6362615       339682.13               0           True       False   \n",
      "6362616            0.00               0          False       False   \n",
      "6362617      6379898.11               0           True       False   \n",
      "6362618            0.00               0          False       False   \n",
      "6362619      7360101.63               0           True       False   \n",
      "\n",
      "         type_PAYMENT  type_TRANSFER  \n",
      "4443869          True          False  \n",
      "2862999         False          False  \n",
      "989451          False          False  \n",
      "2811143         False          False  \n",
      "363296           True          False  \n",
      "...               ...            ...  \n",
      "6362615         False          False  \n",
      "6362616         False           True  \n",
      "6362617         False          False  \n",
      "6362618         False           True  \n",
      "6362619         False          False  \n",
      "\n",
      "[16426 rows x 11 columns]\n"
     ]
    }
   ],
   "source": [
    "print(X)"
   ]
  },
  {
   "cell_type": "code",
   "execution_count": 65,
   "id": "c8476ee1-c80d-4639-b78b-840eb9e55dfb",
   "metadata": {},
   "outputs": [],
   "source": [
    "Y = np.ravel(Y)"
   ]
  },
  {
   "cell_type": "code",
   "execution_count": 66,
   "id": "f77ebd15-55f3-4e21-8050-ec13a79ef0e3",
   "metadata": {},
   "outputs": [
    {
     "name": "stdout",
     "output_type": "stream",
     "text": [
      "[0 0 0 ... 1 1 1]\n"
     ]
    }
   ],
   "source": [
    "print(Y)"
   ]
  },
  {
   "cell_type": "markdown",
   "id": "e0e34918-a4ed-4db7-84ff-cd5d3f9754fe",
   "metadata": {},
   "source": [
    "#### Split the data into training and testing data "
   ]
  },
  {
   "cell_type": "code",
   "execution_count": 67,
   "id": "f9dfcadb-23db-42b9-9741-42f119e1847e",
   "metadata": {},
   "outputs": [],
   "source": [
    "X_train, X_test, Y_train, Y_test = train_test_split(X, Y, test_size= 0.2, stratify=Y, random_state=2)"
   ]
  },
  {
   "cell_type": "code",
   "execution_count": 68,
   "id": "fa4767dd-85c7-4216-ab14-49131bf7fe17",
   "metadata": {},
   "outputs": [
    {
     "name": "stdout",
     "output_type": "stream",
     "text": [
      "(16426, 11) (13140, 11) (3286, 11)\n"
     ]
    }
   ],
   "source": [
    "print(X.shape, X_train.shape, X_test.shape)"
   ]
  },
  {
   "cell_type": "markdown",
   "id": "f86059e2-d27a-495e-8a20-f532a5ce60e2",
   "metadata": {},
   "source": [
    "### Model Training"
   ]
  },
  {
   "cell_type": "markdown",
   "id": "2c6368c4-4c7c-4fb2-a91b-4d3b4f12f037",
   "metadata": {},
   "source": [
    "#### ***Logistic Regression***: The reason to choose this model is that,\n",
    "- Logistic regression is relatively simple compared to more complex algorithms like neural networks. It does not require as much computation and can be trained quickly, making it practical for real-time or near-real-time fraud detection. \n",
    "- It can handle large datasets efficiently, making it suitable for processing large volumes of transactions that occur in financial systems.\n",
    "- Fraud detection datasets often suffer from class imbalance, where fraudulent transactions are much rarer than legitimate ones. Logistic regression can handle imbalanced data reasonably well and can be combined with techniques like oversampling or cost-sensitive learning.                                                              "
   ]
  },
  {
   "cell_type": "code",
   "execution_count": 69,
   "id": "ef84ce63-a308-49d3-a7ff-b945b139055d",
   "metadata": {},
   "outputs": [],
   "source": [
    "model= LogisticRegression()"
   ]
  },
  {
   "cell_type": "code",
   "execution_count": 70,
   "id": "fc061844-690a-4044-a619-2163513362ac",
   "metadata": {},
   "outputs": [
    {
     "data": {
      "text/html": [
       "<style>#sk-container-id-4 {color: black;}#sk-container-id-4 pre{padding: 0;}#sk-container-id-4 div.sk-toggleable {background-color: white;}#sk-container-id-4 label.sk-toggleable__label {cursor: pointer;display: block;width: 100%;margin-bottom: 0;padding: 0.3em;box-sizing: border-box;text-align: center;}#sk-container-id-4 label.sk-toggleable__label-arrow:before {content: \"▸\";float: left;margin-right: 0.25em;color: #696969;}#sk-container-id-4 label.sk-toggleable__label-arrow:hover:before {color: black;}#sk-container-id-4 div.sk-estimator:hover label.sk-toggleable__label-arrow:before {color: black;}#sk-container-id-4 div.sk-toggleable__content {max-height: 0;max-width: 0;overflow: hidden;text-align: left;background-color: #f0f8ff;}#sk-container-id-4 div.sk-toggleable__content pre {margin: 0.2em;color: black;border-radius: 0.25em;background-color: #f0f8ff;}#sk-container-id-4 input.sk-toggleable__control:checked~div.sk-toggleable__content {max-height: 200px;max-width: 100%;overflow: auto;}#sk-container-id-4 input.sk-toggleable__control:checked~label.sk-toggleable__label-arrow:before {content: \"▾\";}#sk-container-id-4 div.sk-estimator input.sk-toggleable__control:checked~label.sk-toggleable__label {background-color: #d4ebff;}#sk-container-id-4 div.sk-label input.sk-toggleable__control:checked~label.sk-toggleable__label {background-color: #d4ebff;}#sk-container-id-4 input.sk-hidden--visually {border: 0;clip: rect(1px 1px 1px 1px);clip: rect(1px, 1px, 1px, 1px);height: 1px;margin: -1px;overflow: hidden;padding: 0;position: absolute;width: 1px;}#sk-container-id-4 div.sk-estimator {font-family: monospace;background-color: #f0f8ff;border: 1px dotted black;border-radius: 0.25em;box-sizing: border-box;margin-bottom: 0.5em;}#sk-container-id-4 div.sk-estimator:hover {background-color: #d4ebff;}#sk-container-id-4 div.sk-parallel-item::after {content: \"\";width: 100%;border-bottom: 1px solid gray;flex-grow: 1;}#sk-container-id-4 div.sk-label:hover label.sk-toggleable__label {background-color: #d4ebff;}#sk-container-id-4 div.sk-serial::before {content: \"\";position: absolute;border-left: 1px solid gray;box-sizing: border-box;top: 0;bottom: 0;left: 50%;z-index: 0;}#sk-container-id-4 div.sk-serial {display: flex;flex-direction: column;align-items: center;background-color: white;padding-right: 0.2em;padding-left: 0.2em;position: relative;}#sk-container-id-4 div.sk-item {position: relative;z-index: 1;}#sk-container-id-4 div.sk-parallel {display: flex;align-items: stretch;justify-content: center;background-color: white;position: relative;}#sk-container-id-4 div.sk-item::before, #sk-container-id-4 div.sk-parallel-item::before {content: \"\";position: absolute;border-left: 1px solid gray;box-sizing: border-box;top: 0;bottom: 0;left: 50%;z-index: -1;}#sk-container-id-4 div.sk-parallel-item {display: flex;flex-direction: column;z-index: 1;position: relative;background-color: white;}#sk-container-id-4 div.sk-parallel-item:first-child::after {align-self: flex-end;width: 50%;}#sk-container-id-4 div.sk-parallel-item:last-child::after {align-self: flex-start;width: 50%;}#sk-container-id-4 div.sk-parallel-item:only-child::after {width: 0;}#sk-container-id-4 div.sk-dashed-wrapped {border: 1px dashed gray;margin: 0 0.4em 0.5em 0.4em;box-sizing: border-box;padding-bottom: 0.4em;background-color: white;}#sk-container-id-4 div.sk-label label {font-family: monospace;font-weight: bold;display: inline-block;line-height: 1.2em;}#sk-container-id-4 div.sk-label-container {text-align: center;}#sk-container-id-4 div.sk-container {/* jupyter's `normalize.less` sets `[hidden] { display: none; }` but bootstrap.min.css set `[hidden] { display: none !important; }` so we also need the `!important` here to be able to override the default hidden behavior on the sphinx rendered scikit-learn.org. See: https://github.com/scikit-learn/scikit-learn/issues/21755 */display: inline-block !important;position: relative;}#sk-container-id-4 div.sk-text-repr-fallback {display: none;}</style><div id=\"sk-container-id-4\" class=\"sk-top-container\"><div class=\"sk-text-repr-fallback\"><pre>LogisticRegression()</pre><b>In a Jupyter environment, please rerun this cell to show the HTML representation or trust the notebook. <br />On GitHub, the HTML representation is unable to render, please try loading this page with nbviewer.org.</b></div><div class=\"sk-container\" hidden><div class=\"sk-item\"><div class=\"sk-estimator sk-toggleable\"><input class=\"sk-toggleable__control sk-hidden--visually\" id=\"sk-estimator-id-4\" type=\"checkbox\" checked><label for=\"sk-estimator-id-4\" class=\"sk-toggleable__label sk-toggleable__label-arrow\">LogisticRegression</label><div class=\"sk-toggleable__content\"><pre>LogisticRegression()</pre></div></div></div></div></div>"
      ],
      "text/plain": [
       "LogisticRegression()"
      ]
     },
     "execution_count": 70,
     "metadata": {},
     "output_type": "execute_result"
    }
   ],
   "source": [
    "# Training the model with the training data\n",
    "model.fit(X_train, Y_train)"
   ]
  },
  {
   "cell_type": "markdown",
   "id": "335138b0-f0e4-4dd6-8485-25a416b37e79",
   "metadata": {},
   "source": [
    "### Model Evaluation"
   ]
  },
  {
   "cell_type": "code",
   "execution_count": 71,
   "id": "b07da9f9-4014-4a37-9cea-c94e63c17d5f",
   "metadata": {},
   "outputs": [],
   "source": [
    "# accuracy on training data\n",
    "X_train_prediction= model.predict(X_train)\n",
    "training_data_accuracy= accuracy_score(X_train_prediction, Y_train)"
   ]
  },
  {
   "cell_type": "code",
   "execution_count": 72,
   "id": "3eb1847b-27f9-48b4-9873-3e58b0f5be0e",
   "metadata": {},
   "outputs": [
    {
     "name": "stdout",
     "output_type": "stream",
     "text": [
      "0.9029680365296804\n"
     ]
    }
   ],
   "source": [
    "print(training_data_accuracy)"
   ]
  },
  {
   "cell_type": "code",
   "execution_count": 73,
   "id": "7c516ae1-31d5-493f-a5b8-67cf8dc409ad",
   "metadata": {},
   "outputs": [],
   "source": [
    "# accuracy on test data\n",
    "X_test_prediction= model.predict(X_test)\n",
    "test_data_accuracy= accuracy_score(X_test_prediction, Y_test)"
   ]
  },
  {
   "cell_type": "code",
   "execution_count": 74,
   "id": "d41ef189-7ddb-4096-a4b4-3985ab76228a",
   "metadata": {},
   "outputs": [
    {
     "name": "stdout",
     "output_type": "stream",
     "text": [
      "0.9013998782714546\n"
     ]
    }
   ],
   "source": [
    "print(test_data_accuracy)"
   ]
  },
  {
   "cell_type": "markdown",
   "id": "5f7e3c28-0697-4375-8954-bf5e58593020",
   "metadata": {},
   "source": [
    "#### To demonstrate the performance of the Model using seaborn and matloptlib"
   ]
  },
  {
   "cell_type": "code",
   "execution_count": 75,
   "id": "2aa2d7fe-ab58-4418-8567-634b5fcb264b",
   "metadata": {},
   "outputs": [],
   "source": [
    "import seaborn as sns\n",
    "import matplotlib.pyplot as plt\n",
    "from sklearn.metrics import confusion_matrix"
   ]
  },
  {
   "cell_type": "code",
   "execution_count": 78,
   "id": "425ba4ed-efdf-4892-8beb-05444ca34d0a",
   "metadata": {},
   "outputs": [
    {
     "data": {
      "image/png": "[encoded data removed]",
      "text/plain": [
       "<Figure size 800x600 with 2 Axes>"
      ]
     },
     "metadata": {},
     "output_type": "display_data"
    }
   ],
   "source": [
    "cm = confusion_matrix(Y_test, X_test_prediction)\n",
    "\n",
    "# Creating a heatmap of the confusion matrix using seaborn\n",
    "plt.figure(figsize=(8, 6))\n",
    "sns.heatmap(cm, annot=True, fmt='d', cmap='Blues', annot_kws={\"size\": 14})\n",
    "plt.title(\"Confusion Matrix for Fraud Detection Model\")\n",
    "plt.xlabel(\"Predicted Labels\")\n",
    "plt.ylabel(\"True Labels\")\n",
    "plt.show()"
   ]
  },
  {
   "cell_type": "markdown",
   "id": "e39b66fb-7ae2-49c9-b2fb-b02d14242e06",
   "metadata": {},
   "source": [
    "#### According to the Confusion Matrix we make the following observations:\n",
    "- **True Positive**: The model correctly predicted 1464 transactions as fraudulent.\n",
    "- **True Negative**: The model correctly predicted 1498 transactions as legitimate.\n",
    "- **False Positive**: The model incorrectly predicted 145 transactions as fraudulent when they were actually legitimate.\n",
    "- **False Negative**: The model incorrectly predicted 179 transactions as legitimate when they were actually fraudulent."
   ]
  },
  {
   "cell_type": "markdown",
   "id": "41f11863-720f-4e05-90f1-e966f907e3cd",
   "metadata": {},
   "source": [
    "#### Key Factors that predict fradulent Customer"
   ]
  },
  {
   "cell_type": "code",
   "execution_count": 80,
   "id": "d55587f7-7970-48e2-9d04-2d8e6472cedc",
   "metadata": {},
   "outputs": [
    {
     "name": "stdout",
     "output_type": "stream",
     "text": [
      "Top Key Factors for Predicting Fraudulent Customers:\n",
      "step: -0.0023\n",
      "newbalanceOrig: -0.0000\n",
      "oldbalanceOrg: 0.0000\n",
      "newbalanceDest: -0.0000\n",
      "oldbalanceDest: 0.0000\n"
     ]
    }
   ],
   "source": [
    "feature_names = X.columns\n",
    "# Get feature coefficients\n",
    "coefficients = model.coef_[0]\n",
    "# Create a dictionary to store feature names and coefficients\n",
    "feature_coefficients = dict(zip(feature_names, coefficients))\n",
    "sorted_features = sorted(feature_coefficients.items(), key=lambda x: abs(x[1]), reverse=True)\n",
    "\n",
    "print(\"Top Key Factors for Predicting Fraudulent Customers:\")\n",
    "for feature, coefficient in sorted_features[:5]:\n",
    "    print(f\"{feature}: {coefficient:.4f}\")"
   ]
  },
  {
   "cell_type": "markdown",
   "id": "67e287da-1400-4371-bc9b-8d0458fdf006",
   "metadata": {},
   "source": [
    "####  Yes, this factor could make sense. The coefficient value associated with the \"step\" feature being -0.0023 means that for every one-hour increase in time (step), the log-odds of the transaction being fraudulent decrease by approximately 0.0023.\n",
    "-**Negative Coefficient**: The negative sign of the coefficient indicates an inverse relationship between the \"step\" feature and the likelihood of fraud. As the value of \"step\" increases (time advances), the model predicts a decreased likelihood of the transaction being fraudulent.\n",
    "\n",
    "-**Magnitude**: The magnitude of the coefficient value (-0.0023) indicates the strength of this relationship. Larger absolute coefficient values imply a stronger impact of the feature on the model's predictions. In this case, -0.0023 is a relatively small coefficient, suggesting that the effect of \"step\" on predicting fraud is not very strong."
   ]
  },
  {
   "cell_type": "markdown",
   "id": "c70be883-ccb4-4fc0-abf2-45850c7284b4",
   "metadata": {},
   "source": [
    " #### Prevention which  should be adopted while company update its infrastructure is:\n",
    "\n",
    "-Implement real-time monitoring of transactions, account activities, and user behaviors to identify unusual or suspicious patterns. \n",
    "\n",
    "-Analyze user behavior and transaction patterns to detect deviations from normal behavior. For example, sudden large transfers or multiple transactions to unfamiliar destinations might raise alarms.\n"
   ]
  },
  {
   "cell_type": "code",
   "execution_count": null,
   "id": "c7019a21-ebcb-426d-a025-3dc363e2b284",
   "metadata": {},
   "outputs": [],
   "source": [
    "#### If these actions have been implemented The effectiveness of implemented fraud prevention measures involves a combination of monitoring, analysis, and ongoing evaluation. \n",
    "-Track the number and nature of detected fraudulent incidents over time. A decrease in the number of fraud incidents could indicate the effectiveness of prevention measures.\n",
    "-Monitor the rate of false positives (legitimate transactions flagged as fraud). A reduction in false positives indicates that the prevention measures are becoming more accurate.\n"
   ]
  },
  {
   "cell_type": "markdown",
   "id": "a8780d99-a013-4db3-b23f-1201f129d88e",
   "metadata": {},
   "source": [
    "### **Author**\n",
    "### Reetika Bhatt"
   ]
  }
 ],
 "metadata": {
  "kernelspec": {
   "display_name": "Python 3 (ipykernel)",
   "language": "python",
   "name": "python3"
  },
  "language_info": {
   "codemirror_mode": {
    "name": "ipython",
    "version": 3
   },
   "file_extension": ".py",
   "mimetype": "text/x-python",
   "name": "python",
   "nbconvert_exporter": "python",
   "pygments_lexer": "ipython3",
   "version": "3.11.4"
  }
 },
 "nbformat": 4,
 "nbformat_minor": 5
}
